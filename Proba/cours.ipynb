{
 "cells": [
  {
   "attachments": {},
   "cell_type": "markdown",
   "metadata": {},
   "source": [
    "# Loi normale uniforme\n"
   ]
  },
  {
   "attachments": {},
   "cell_type": "markdown",
   "metadata": {},
   "source": [
    "$P(z=x) = 0$ Car il y a une infinité de valeurs possibles pour la loi normale uniforme donc la probabilité d'avoir une valeur précise sur une infinité de valeurs est $0$."
   ]
  },
  {
   "attachments": {},
   "cell_type": "markdown",
   "metadata": {},
   "source": [
    "$P(z \\geq x) = P(z>x) + P(z=x) = P(z>x)$"
   ]
  },
  {
   "attachments": {},
   "cell_type": "markdown",
   "metadata": {},
   "source": [
    "La notation $f(x)$ est utilisée pour la densité de probabilité d'une variable aléatoire continue. La notation $P(x)$ est utilisée pour la fonction de répartition d'une variable aléatoire continue. $F(x)$ est la fonction de répartition d'une variable aléatoire continue.\n",
    "\n",
    "$F(x) = P(z \\leq x) = \\int_{-\\infty}^{x} f(z) dz$"
   ]
  },
  {
   "attachments": {},
   "cell_type": "markdown",
   "metadata": {},
   "source": [
    "On dit que la loi normale est centrée si sa moyenne est à $0$."
   ]
  },
  {
   "attachments": {},
   "cell_type": "markdown",
   "metadata": {},
   "source": [
    "# Recentrer la moyenne\n"
   ]
  },
  {
   "attachments": {},
   "cell_type": "markdown",
   "metadata": {},
   "source": [
    "Pour normaliser la moyenne, on utilise :\n",
    "\n",
    "$Z = \\frac{X - \\mu}{\\sigma}$\n",
    "\n",
    "$X$ une vairable aléatoire."
   ]
  },
  {
   "attachments": {},
   "cell_type": "markdown",
   "metadata": {},
   "source": [
    "#### Exemple\n"
   ]
  },
  {
   "attachments": {},
   "cell_type": "markdown",
   "metadata": {},
   "source": [
    "$\\begin{aligned}\n",
    "P[1 \\leq X \\leq 10] &= P\\left[\\frac{1 - 3}{4} \\leq \\frac{X - 3}{4} \\leq \\frac{10 - 3}{4}\\right] \\\\\n",
    "&= P\\left[ \\frac{1 - 3}{4} \\leq Z \\leq \\frac{10 - 3}{4} \\right] = P[-0.5 \\leq Z \\leq 1.75] \\\\\n",
    "&= F(1.75) - F(-0.5) = F(1.75) - 1 + F(0.5) \\\\\n",
    "&\\approx 0.9599 - 1 + 0.6915 = 0.6514\n",
    "\\end{aligned}$\n"
   ]
  },
  {
   "attachments": {},
   "cell_type": "markdown",
   "metadata": {},
   "source": [
    "# Variance et espérance"
   ]
  },
  {
   "attachments": {},
   "cell_type": "markdown",
   "metadata": {},
   "source": [
    "Les variance se calculent avec la formule suivante :\n",
    "\n",
    "$Var(X) = E(X^2) - E(X)^2$"
   ]
  }
 ],
 "metadata": {
  "language_info": {
   "name": "python"
  },
  "orig_nbformat": 4
 },
 "nbformat": 4,
 "nbformat_minor": 2
}
