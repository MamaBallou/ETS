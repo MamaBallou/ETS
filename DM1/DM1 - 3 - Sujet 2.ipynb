{
 "cells": [
  {
   "attachments": {},
   "cell_type": "markdown",
   "metadata": {},
   "source": [
    "# **Sujet 2 : Recherche d'une frontière sous contrainte de position de centre d'inertie**"
   ]
  },
  {
   "cell_type": "markdown",
   "metadata": {},
   "source": [
    "Une plaque a pour frontières l'axe $Ox$, un segment parallèle à l'axe $Oy$ d'équation $x=1$ et un arc de parabole (voir figure). Cette plaque homogène et d'épaisseur négligeable a son sommet inférieur gauche qui coïncide avec l'origine de $O$ du repère $(O;i;j)$. La masse surfacique $\\mu$ de cette plaque est constante. La position du centre d'inertie $G$ de la plaque est donnée par les coordonnées $x_G = 5/8$ et $y_G = 2/5$.\n",
    "\n",
    "Pouvez-vous retrouver l'équation de la frontière parabolique de la plaque ?\n",
    "\n",
    "<div style=\"text-align:center\">\n",
    "<img src=plaque.png alt=\"Une représentation du texte au dessus\" title=\"Joulie schema\">\n",
    "</div>\n",
    "\n",
    "> **Indication** : formules intégrales des coordonnées du centre d'inerie\n",
    "> **Calcul du centre de gravité d'une plaque.** Les coordonnées $(x_G,y_G)$ du centre de gravité du domaine $D$ précédent sont données par\n",
    "> $$ \\begin{align} x_G &= \\frac{1}{m} \\iint_D x \\mu (x,y)dxdy, & y_G &= \\frac{1}{m} \\iint_D y \\mu (x,y)dxdy \\end{align} $$\n",
    "> **Calcul de masse.** Soit une plaque mince dont l'épaisseur est négligeable, on peut la représenter par un domaine $D$ du plan $xOy$. Supposons que sa masse surfacique soit égale à $\\mu(x,y)$ alors la masse $m$ de la plaque vaut\n",
    "> $$ m = \\iint_D \\mu (x,y)dxdy $$\n",
    "\n",
    "**Démarche et raisonnement attendus :**\n",
    "* Faire un schéma illustrant la situation\n",
    "* Exprimer les coordonnées de $x_G$ et $y_G$ en fonction des coefficients de l'arc parabolique\n",
    "* Identifier avec les valeurs de $x_G$ et $y_G$\n",
    "* En déduire les coefficients dde l'arc parabolique"
   ]
  },
  {
   "attachments": {},
   "cell_type": "markdown",
   "metadata": {},
   "source": [
    "# Résolution"
   ]
  },
  {
   "cell_type": "markdown",
   "metadata": {},
   "source": [
    "> **Rappel** Équation de la parabole : $y = ax^2 + bx + c$\n",
    "\n",
    "$O$ fait partie de la parabole, donc $c = 0$ donc $y = ax^2 + bx$\n",
    "\n",
    "$\\mu$ est une constante.\n",
    "\n",
    "Le domaine $D$ dépend de $x$ qui varie entre $0$ et $1$ et de $y$ qui varie entre $0$ et $ax^2 + bx$\n",
    "\n",
    "$\\begin{aligned}\n",
    "m &= \\iint_D \\mu (x,y)dxdy \\\\[10pt]\n",
    "&= \\iint_D \\mu\\ dydx \\\\[10pt]\n",
    "&= \\int_0^1 \\left( \\int_0^{ax^2 + bx} \\mu\\ dy \\right) dx \\\\[10pt]\n",
    "&= \\int_0^1 \\mu (ax^2 + bx) dx \\\\[10pt]\n",
    "&= \\mu \\left[ \\frac{ax^3}{3} + \\frac{bx^2}{2} \\right]_0^1 \\\\[10pt]\n",
    "&= \\mu \\left( \\frac{a}{3} + \\frac{b}{2} \\right) \\\\[10pt]\n",
    "\\end{aligned}$"
   ]
  },
  {
   "attachments": {},
   "cell_type": "markdown",
   "metadata": {},
   "source": [
    "$\\begin{aligned}\n",
    "x_G &= \\frac{1}{m} \\iint_D x \\mu (x,y)dxdy \\\\[10pt]\n",
    "&= \\frac{1}{m} \\iint_D x \\mu\\ dxdy \\\\[10pt]\n",
    "&= \\frac{1}{m} \\int_0^1 \\left( \\int_0^{ax^2 + bx} x \\mu\\ dy \\right) dx \\\\[10pt]\n",
    "&= \\frac{1}{m} \\int_0^1 \\mu x (ax^2 + bx)\\ dx \\\\[10pt]\n",
    "&= \\frac{1}{m} \\int_0^1 \\mu (ax^3 + bx^2)\\ dx \\\\[10pt]\n",
    "&= \\frac{1}{m} \\mu \\left[ \\frac{ax^4}{4} + \\frac{bx^3}{3} \\right]_0^1 \\\\[10pt]\n",
    "&= \\frac{1}{m} \\mu \\left( \\frac{a}{4} + \\frac{b}{3} \\right) \\\\[10pt]\n",
    "&= \\frac{1}{\\mu \\left(\\frac{a}{3} + \\frac{b}{2}\\right)} \\mu \\left( \\frac{a}{4} + \\frac{b}{3} \\right) \\\\[10pt]\n",
    "x_G &= \\left( \\frac{3}{a} + \\frac{2}{b} \\right) \\left( \\frac{a}{4} + \\frac{b}{3} \\right) \\\\[10pt]\n",
    "\\end{aligned}$"
   ]
  },
  {
   "attachments": {},
   "cell_type": "markdown",
   "metadata": {},
   "source": [
    "$\\begin{aligned}\n",
    "\\frac{5}{8} = \\left( \\frac{3}{a} + \\frac{2}{b} \\right) \\left( \\frac{a}{4} + \\frac{b}{3} \\right) &\\Leftrightarrow\n",
    "\\frac{5}{8} \\left( \\frac{a}{3} + \\frac{b}{2} \\right) = \\left( \\frac{a}{4} + \\frac{b}{3} \\right) \\\\[10pt]\n",
    "&\\Leftrightarrow\\frac{5a}{24} + \\frac{5b}{16} = \\frac{a}{4} + \\frac{b}{3} \\\\[10pt]\n",
    "&\\Leftrightarrow\\frac{5a}{24} - \\frac{a}{4} = \\frac{b}{3} - \\frac{5b}{16} \\\\[10pt]\n",
    "&\\Leftrightarrow\\frac{5a}{24} - \\frac{6a}{24} = \\frac{b}{3} - \\frac{5b}{16} \\\\[10pt]\n",
    "&\\Leftrightarrow\\frac{-a}{24} =  \\frac{b}{3} - \\frac{5b}{16} \\\\[10pt]\n",
    "&\\Leftrightarrow\\frac{-a}{24} = \\frac{16b}{48} - \\frac{15b}{48} \\\\[10pt]\n",
    "&\\Leftrightarrow\\frac{-a}{24} = \\frac{b}{48} \\\\[10pt]\n",
    "&\\Leftrightarrow\\frac{-2a}{48} = \\frac{b}{48} \\\\[10pt]\n",
    "&\\Leftrightarrow-2a = b \\\\[10pt]\n",
    "\\end{aligned}$"
   ]
  },
  {
   "attachments": {},
   "cell_type": "markdown",
   "metadata": {},
   "source": [
    "$\\begin{aligned}\n",
    "y_G &= \\frac{1}{m} \\iint_D y \\mu (x,y)dxdy \\\\[10pt]\n",
    "&= \\frac{1}{m} \\iint_D y \\mu\\ dxdy \\\\[10pt]\n",
    "&= \\frac{1}{m} \\int_0^1 \\int_0^{ax^2 + bx} y \\mu\\ dxdy \\\\[10pt]\n",
    "&= \\frac{1}{m} \\mu \\int_0^1 \\frac{1}{2} (ax^2 + bx)^2 dx \\\\[10pt]\n",
    "&= \\frac{1}{2m} \\mu \\int_0^1 (a^2x^4 + 2abx^3 + b^2x^2) dx \\\\[10pt]\n",
    "&= \\frac{1}{2m} \\mu \\left[ \\frac{a^2x^5}{5} + \\frac{2abx^4}{4} + \\frac{b^2x^3}{3} \\right]_0^1 \\\\[10pt]\n",
    "&= \\frac{1}{2m} \\mu \\left( \\frac{a^2}{5} + \\frac{2ab}{4} + \\frac{b^2}{3} \\right) \\\\[10pt]\n",
    "&= \\frac{1}{2  \\mu \\left( \\frac{a}{3} + \\frac{b}{2} \\right) } \\mu \\left( \\frac{a^2}{5} + \\frac{2ab}{4} + \\frac{b^2}{3} \\right) \\\\[10pt]\n",
    "y_G &= \\frac{1}{\\frac{2a}{3} + b } \\left( \\frac{a^2}{5} + \\frac{2ab}{4} + \\frac{b^2}{3} \\right) \\\\[10pt]\n",
    "\\end{aligned}$"
   ]
  },
  {
   "attachments": {},
   "cell_type": "markdown",
   "metadata": {},
   "source": [
    "$\\begin{aligned}\n",
    "\\frac{2}{5} = \\frac{1}{\\frac{2a}{3} + b } \\left( \\frac{a^2}{5} + \\frac{2ab}{4} + \\frac{b^2}{3} \\right) &\\Leftrightarrow\n",
    "\\frac{2}{5} \\left( \\frac{2a}{3} + b \\right) = \\left( \\frac{a^2}{5} + \\frac{2ab}{4} + \\frac{b^2}{3} \\right) \\\\[10pt]\n",
    "&\\Leftrightarrow\\frac{4a}{15} + \\frac{2b}{5} = \\frac{a^2}{5} + \\frac{ab}{2} + \\frac{b^2}{3} \\\\\n",
    "\\end{aligned}$"
   ]
  },
  {
   "attachments": {},
   "cell_type": "markdown",
   "metadata": {},
   "source": [
    "On remplace $b$ par $-2a$ :"
   ]
  },
  {
   "attachments": {},
   "cell_type": "markdown",
   "metadata": {},
   "source": [
    "$\\begin{aligned}\n",
    "\\frac{4a}{15} + \\frac{2(-2a)}{5} = \\frac{a^2}{5} + \\frac{(-2a)a}{2} + \\frac{(-2a)^2}{3} &\\Leftrightarrow\n",
    "\\frac{4a}{15} - \\frac{4a}{5} = \\frac{a^2}{5} - \\frac{2a^2}{2} + \\frac{4a^2}{3} \\\\[10pt]\n",
    "&\\Leftrightarrow\\frac{4a}{15} - \\frac{12a}{15} = \\frac{a^2}{5} - a^2 + \\frac{4a^2}{3} \\\\[10pt]\n",
    "&\\Leftrightarrow -\\frac{8a}{15} = \\frac{a^2}{5} - a^2 + \\frac{4a^2}{3} \\\\[10pt]\n",
    "&\\Leftrightarrow -\\frac{8a}{15} = \\frac{3a^2}{15} - a^2 + \\frac{20a^2}{15} \\\\[10pt]\n",
    "&\\Leftrightarrow -\\frac{8a}{15} = \\frac{23a^2}{15} - a^2 \\\\[10pt]\n",
    "&\\Leftrightarrow -\\frac{8a}{15} = \\frac{8a^2}{15} \\\\[10pt]\n",
    "&\\Leftrightarrow -8a = 8a^2 \\\\\n",
    "&\\Leftrightarrow -8 = 8a \\\\\n",
    "&\\Leftrightarrow a = - 1 \\\\\n",
    "\\end{aligned}$"
   ]
  },
  {
   "attachments": {},
   "cell_type": "markdown",
   "metadata": {},
   "source": [
    "Donc $b = 2$.\n",
    "\n",
    "Donc l'équation de la parabole est $y = -x^2 + 2x$."
   ]
  }
 ],
 "metadata": {
  "language_info": {
   "name": "python"
  },
  "orig_nbformat": 4
 },
 "nbformat": 4,
 "nbformat_minor": 2
}
